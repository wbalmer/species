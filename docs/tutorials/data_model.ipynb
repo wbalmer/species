{
 "cells": [
  {
   "cell_type": "markdown",
   "metadata": {},
   "source": [
    "# Comparing photometric fluxes and model spectra"
   ]
  },
  {
   "cell_type": "markdown",
   "metadata": {},
   "source": [
    "In this tutorial, we will compare the photometric fluxes of the brown dwarf companion PZ Tel B with a synthetic spectrum from the ATMO grid."
   ]
  },
  {
   "cell_type": "markdown",
   "metadata": {},
   "source": [
    "## Initiating *species*"
   ]
  },
  {
   "cell_type": "markdown",
   "metadata": {},
   "source": [
    "We start by importing *species*."
   ]
  },
  {
   "cell_type": "code",
   "execution_count": 1,
   "metadata": {},
   "outputs": [],
   "source": [
    "from species import SpeciesInit\n",
    "from species.data.database import Database\n",
    "from species.read.read_model import ReadModel\n",
    "from species.plot.plot_spectrum import plot_spectrum\n",
    "from species.util.fit_util import get_residuals, multi_photometry"
   ]
  },
  {
   "cell_type": "markdown",
   "metadata": {},
   "source": [
    "And initiating the workflow with the [SpeciesInit](https://species.readthedocs.io/en/latest/species.core.html#species.core.species_init.SpeciesInit) class. This will create the configuration file and the HDF5 database."
   ]
  },
  {
   "cell_type": "code",
   "execution_count": 2,
   "metadata": {},
   "outputs": [
    {
     "name": "stdout",
     "output_type": "stream",
     "text": [
      "==============\n",
      "species v0.8.3\n",
      "==============\n",
      "\n",
      "Working folder: /Users/tomasstolker/applications/species/docs/tutorials\n",
      "\n",
      "Creating species_config.ini... [DONE]\n",
      "Creating species_database.hdf5... [DONE]\n",
      "Creating data folder... [DONE]\n",
      "\n",
      "Configuration settings:\n",
      "   - Database: /Users/tomasstolker/applications/species/docs/tutorials/species_database.hdf5\n",
      "   - Data folder: /Users/tomasstolker/applications/species/docs/tutorials/data\n",
      "   - Magnitude of Vega: 0.03\n",
      "\n",
      "Multiprocessing: mpi4py not installed\n"
     ]
    },
    {
     "data": {
      "text/plain": [
       "<species.core.species_init.SpeciesInit at 0x1483237d0>"
      ]
     },
     "execution_count": 2,
     "metadata": {},
     "output_type": "execute_result"
    }
   ],
   "source": [
    "SpeciesInit()"
   ]
  },
  {
   "cell_type": "markdown",
   "metadata": {},
   "source": [
    "## Adding model spectra"
   ]
  },
  {
   "cell_type": "markdown",
   "metadata": {},
   "source": [
    "We create now a [Database](https://species.readthedocs.io/en/latest/species.data.html#species.data.database.Database) object which is used for importing various data into the database."
   ]
  },
  {
   "cell_type": "code",
   "execution_count": 3,
   "metadata": {},
   "outputs": [],
   "source": [
    "database = Database()"
   ]
  },
  {
   "cell_type": "markdown",
   "metadata": {},
   "source": [
    "The spectra of ATMO are downloaded and added to the database with the [add_model](https://species.readthedocs.io/en/latest/species.data.html#species.data.database.Database.add_model) method of [Database](https://species.readthedocs.io/en/latest/species.data.html#species.data.database.Database). This requires sufficient disk storage in the *data_folder* that is set in the configuration file. The full ATMO grid is downloaded but the `teff_range` parameter can be used to only import a certain $T_\\mathrm{eff}$ range into the database."
   ]
  },
  {
   "cell_type": "code",
   "execution_count": 4,
   "metadata": {},
   "outputs": [
    {
     "name": "stderr",
     "output_type": "stream",
     "text": [
      "Downloading data from 'https://home.strw.leidenuniv.nl/~stolker/species/atmo.tgz' to file '/Users/tomasstolker/applications/species/docs/tutorials/data/atmo.tgz'.\n"
     ]
    },
    {
     "name": "stdout",
     "output_type": "stream",
     "text": [
      "\n",
      "-------------------------\n",
      "Add grid of model spectra\n",
      "-------------------------\n",
      "\n",
      "Database tag: atmo\n",
      "Model name: ATMO\n",
      "\n"
     ]
    },
    {
     "name": "stderr",
     "output_type": "stream",
     "text": [
      "100%|█████████████████████████████████████| 46.8M/46.8M [00:00<00:00, 17.2GB/s]\n",
      "SHA256 hash of downloaded file: 49e225afd28e99d6e855f917562302b89d178064a1258fdcbc0f9bd5795e25f0\n",
      "Use this value as the 'known_hash' argument of 'pooch.retrieve' to ensure that the file hasn't changed if it is downloaded again in the future.\n"
     ]
    },
    {
     "name": "stdout",
     "output_type": "stream",
     "text": [
      "\n",
      "Unpacking 42/231 model spectra from ATMO (45 MB)...data/atmo\n",
      "data/atmo.tgz\n",
      " [DONE]\n",
      "\n",
      "Please cite Phillips et al. (2020) when using ATMO in a publication\n",
      "Reference URL: https://ui.adsabs.harvard.edu/abs/2020A%26A...637A..38P\n",
      "\n",
      "Wavelength range (um) = 0.4 - 6000\n",
      "Sampling (lambda/d_lambda) = 1000\n",
      "Teff range (K) = 2500.0 - 3000.0\n",
      "\n",
      "Adding ATMO model spectra... data/atmo/atmo_teff_3000_logg_5.5_spec.dat\n",
      "\n",
      "Grid points stored in the database:\n",
      "   - Teff = [2500. 2600. 2700. 2800. 2900. 3000.]\n",
      "   - log(g) = [2.5 3.  3.5 4.  4.5 5.  5.5]\n",
      "\n",
      "Number of grid points per parameter:\n",
      "   - teff: 6\n",
      "   - logg: 7\n",
      "\n",
      "Number of stored grid points: 42\n",
      "Number of interpolated grid points: 0\n",
      "Number of missing grid points: 0\n"
     ]
    }
   ],
   "source": [
    "database.add_model('atmo', teff_range=(2500., 3000.))"
   ]
  },
  {
   "cell_type": "markdown",
   "metadata": {},
   "source": [
    "## Adding companion data"
   ]
  },
  {
   "cell_type": "markdown",
   "metadata": {},
   "source": [
    "Next, we add the parallax and magnitudes of PZ Tel B to the database with the [add_companion](https://species.readthedocs.io/en/latest/species.data.html#species.data.database.Database.add_companion) method. This will automatically download the required filter profiles and a flux-calibrated spectrum of Vega. These are used to convert the magnitudes into fluxes."
   ]
  },
  {
   "cell_type": "code",
   "execution_count": 5,
   "metadata": {},
   "outputs": [
    {
     "name": "stdout",
     "output_type": "stream",
     "text": [
      "Add companion: ['PZ Tel B']\n"
     ]
    },
    {
     "name": "stderr",
     "output_type": "stream",
     "text": [
      "Downloading data from 'https://archive.stsci.edu/hlsps/reference-atlases/cdbs/current_calspec/alpha_lyr_stis_011.fits' to file '/Users/tomasstolker/applications/species/docs/tutorials/data/alpha_lyr_stis_011.fits'.\n"
     ]
    },
    {
     "name": "stdout",
     "output_type": "stream",
     "text": [
      "\n"
     ]
    },
    {
     "name": "stderr",
     "output_type": "stream",
     "text": [
      "100%|████████████████████████████████████████| 288k/288k [00:00<00:00, 167MB/s]"
     ]
    },
    {
     "name": "stdout",
     "output_type": "stream",
     "text": [
      "\n",
      "Adding spectrum: Vega"
     ]
    },
    {
     "name": "stderr",
     "output_type": "stream",
     "text": [
      "\n"
     ]
    },
    {
     "name": "stdout",
     "output_type": "stream",
     "text": [
      "\n",
      "Reference: Bohlin et al. 2014, PASP, 126\n",
      "URL: https://ui.adsabs.harvard.edu/abs/2014PASP..126..711B/abstract\n"
     ]
    }
   ],
   "source": [
    "database.add_companion('PZ Tel B', verbose=False)"
   ]
  },
  {
   "cell_type": "markdown",
   "metadata": {},
   "source": [
    "Alternatively, the [add_object](https://species.readthedocs.io/en/latest/species.data.html#species.data.database.Database.add_object) method of [Database](https://species.readthedocs.io/en/latest/species.data.html#species.data.database.Database) can be used for manually adding magnitudes and spectra of an individual object. Before continuing, let's check the content of the database."
   ]
  },
  {
   "cell_type": "code",
   "execution_count": 6,
   "metadata": {},
   "outputs": [
    {
     "name": "stdout",
     "output_type": "stream",
     "text": [
      "\n",
      "---------------------\n",
      "List database content\n",
      "---------------------\n",
      "\n",
      "- filters: <HDF5 group \"/filters\" (2 members)>\n",
      "\t- Gemini: <HDF5 group \"/filters/Gemini\" (2 members)>\n",
      "\t\t- NICI.ED286: <HDF5 dataset \"NICI.ED286\": shape (387, 2), type \"<f8\">\n",
      "\t\t\t- det_type: energy\n",
      "\t\t\t- det_type = energy\n",
      "\t\t- NIRI.H2S1v2-1-G0220: <HDF5 dataset \"NIRI.H2S1v2-1-G0220\": shape (129, 2), type \"<f8\">\n",
      "\t\t\t- det_type: energy\n",
      "\t\t\t- det_type = energy\n",
      "\t- Paranal: <HDF5 group \"/filters/Paranal\" (12 members)>\n",
      "\t\t- NACO.H: <HDF5 dataset \"NACO.H\": shape (23, 2), type \"<f8\">\n",
      "\t\t\t- det_type: energy\n",
      "\t\t\t- det_type = energy\n",
      "\t\t- NACO.J: <HDF5 dataset \"NACO.J\": shape (20, 2), type \"<f8\">\n",
      "\t\t\t- det_type: energy\n",
      "\t\t\t- det_type = energy\n",
      "\t\t- NACO.Ks: <HDF5 dataset \"NACO.Ks\": shape (27, 2), type \"<f8\">\n",
      "\t\t\t- det_type: energy\n",
      "\t\t\t- det_type = energy\n",
      "\t\t- NACO.Lp: <HDF5 dataset \"NACO.Lp\": shape (31, 2), type \"<f8\">\n",
      "\t\t\t- det_type: energy\n",
      "\t\t\t- det_type = energy\n",
      "\t\t- NACO.Mp: <HDF5 dataset \"NACO.Mp\": shape (18, 2), type \"<f8\">\n",
      "\t\t\t- det_type: energy\n",
      "\t\t\t- det_type = energy\n",
      "\t\t- NACO.NB405: <HDF5 dataset \"NACO.NB405\": shape (67, 2), type \"<f8\">\n",
      "\t\t\t- det_type: energy\n",
      "\t\t\t- det_type = energy\n",
      "\t\t- SPHERE.IRDIS_D_H23_2: <HDF5 dataset \"SPHERE.IRDIS_D_H23_2\": shape (113, 2), type \"<f8\">\n",
      "\t\t\t- det_type: energy\n",
      "\t\t\t- det_type = energy\n",
      "\t\t- SPHERE.IRDIS_D_H23_3: <HDF5 dataset \"SPHERE.IRDIS_D_H23_3\": shape (180, 2), type \"<f8\">\n",
      "\t\t\t- det_type: energy\n",
      "\t\t\t- det_type = energy\n",
      "\t\t- SPHERE.IRDIS_D_K12_1: <HDF5 dataset \"SPHERE.IRDIS_D_K12_1\": shape (175, 2), type \"<f8\">\n",
      "\t\t\t- det_type: energy\n",
      "\t\t\t- det_type = energy\n",
      "\t\t- SPHERE.IRDIS_D_K12_2: <HDF5 dataset \"SPHERE.IRDIS_D_K12_2\": shape (191, 2), type \"<f8\">\n",
      "\t\t\t- det_type: energy\n",
      "\t\t\t- det_type = energy\n",
      "\t\t- SPHERE.ZIMPOL_I_PRIM: <HDF5 dataset \"SPHERE.ZIMPOL_I_PRIM\": shape (189, 2), type \"<f8\">\n",
      "\t\t\t- det_type: energy\n",
      "\t\t\t- det_type = energy\n",
      "\t\t- SPHERE.ZIMPOL_R_PRIM: <HDF5 dataset \"SPHERE.ZIMPOL_R_PRIM\": shape (169, 2), type \"<f8\">\n",
      "\t\t\t- det_type: energy\n",
      "\t\t\t- det_type = energy\n",
      "- models: <HDF5 group \"/models\" (1 members)>\n",
      "\t- atmo: <HDF5 group \"/models/atmo\" (4 members)>\n",
      "\t\t- flux: <HDF5 dataset \"flux\": shape (6, 7, 9707), type \"<f8\">\n",
      "\t\t- logg: <HDF5 dataset \"logg\": shape (7,), type \"<f8\">\n",
      "\t\t- teff: <HDF5 dataset \"teff\": shape (6,), type \"<f8\">\n",
      "\t\t- wavelength: <HDF5 dataset \"wavelength\": shape (9707,), type \"<f8\">\n",
      "\t\t- lambda/d_lambda = 1000\n",
      "\t\t- n_param = 2\n",
      "\t\t- parameter0 = teff\n",
      "\t\t- parameter1 = logg\n",
      "- objects: <HDF5 group \"/objects\" (1 members)>\n",
      "\t- PZ Tel B: <HDF5 group \"/objects/PZ Tel B\" (3 members)>\n",
      "\t\t- Gemini: <HDF5 group \"/objects/PZ Tel B/Gemini\" (2 members)>\n",
      "\t\t\t- NICI.ED286: <HDF5 dataset \"NICI.ED286\": shape (4,), type \"<f8\">\n",
      "\t\t\t\t- n_phot: 1\n",
      "\t\t\t\t- n_phot = 1\n",
      "\t\t\t- NIRI.H2S1v2-1-G0220: <HDF5 dataset \"NIRI.H2S1v2-1-G0220\": shape (4,), type \"<f8\">\n",
      "\t\t\t\t- n_phot: 1\n",
      "\t\t\t\t- n_phot = 1\n",
      "\t\t- Paranal: <HDF5 group \"/objects/PZ Tel B/Paranal\" (12 members)>\n",
      "\t\t\t- NACO.H: <HDF5 dataset \"NACO.H\": shape (4,), type \"<f8\">\n",
      "\t\t\t\t- n_phot: 1\n",
      "\t\t\t\t- n_phot = 1\n",
      "\t\t\t- NACO.J: <HDF5 dataset \"NACO.J\": shape (4,), type \"<f8\">\n",
      "\t\t\t\t- n_phot: 1\n",
      "\t\t\t\t- n_phot = 1\n",
      "\t\t\t- NACO.Ks: <HDF5 dataset \"NACO.Ks\": shape (4,), type \"<f8\">\n",
      "\t\t\t\t- n_phot: 1\n",
      "\t\t\t\t- n_phot = 1\n",
      "\t\t\t- NACO.Lp: <HDF5 dataset \"NACO.Lp\": shape (4,), type \"<f8\">\n",
      "\t\t\t\t- n_phot: 1\n",
      "\t\t\t\t- n_phot = 1\n",
      "\t\t\t- NACO.Mp: <HDF5 dataset \"NACO.Mp\": shape (4,), type \"<f8\">\n",
      "\t\t\t\t- n_phot: 1\n",
      "\t\t\t\t- n_phot = 1\n",
      "\t\t\t- NACO.NB405: <HDF5 dataset \"NACO.NB405\": shape (4,), type \"<f8\">\n",
      "\t\t\t\t- n_phot: 1\n",
      "\t\t\t\t- n_phot = 1\n",
      "\t\t\t- SPHERE.IRDIS_D_H23_2: <HDF5 dataset \"SPHERE.IRDIS_D_H23_2\": shape (4,), type \"<f8\">\n",
      "\t\t\t\t- n_phot: 1\n",
      "\t\t\t\t- n_phot = 1\n",
      "\t\t\t- SPHERE.IRDIS_D_H23_3: <HDF5 dataset \"SPHERE.IRDIS_D_H23_3\": shape (4,), type \"<f8\">\n",
      "\t\t\t\t- n_phot: 1\n",
      "\t\t\t\t- n_phot = 1\n",
      "\t\t\t- SPHERE.IRDIS_D_K12_1: <HDF5 dataset \"SPHERE.IRDIS_D_K12_1\": shape (4,), type \"<f8\">\n",
      "\t\t\t\t- n_phot: 1\n",
      "\t\t\t\t- n_phot = 1\n",
      "\t\t\t- SPHERE.IRDIS_D_K12_2: <HDF5 dataset \"SPHERE.IRDIS_D_K12_2\": shape (4,), type \"<f8\">\n",
      "\t\t\t\t- n_phot: 1\n",
      "\t\t\t\t- n_phot = 1\n",
      "\t\t\t- SPHERE.ZIMPOL_I_PRIM: <HDF5 dataset \"SPHERE.ZIMPOL_I_PRIM\": shape (4,), type \"<f8\">\n",
      "\t\t\t\t- n_phot: 1\n",
      "\t\t\t\t- n_phot = 1\n",
      "\t\t\t- SPHERE.ZIMPOL_R_PRIM: <HDF5 dataset \"SPHERE.ZIMPOL_R_PRIM\": shape (4,), type \"<f8\">\n",
      "\t\t\t\t- n_phot: 1\n",
      "\t\t\t\t- n_phot = 1\n",
      "\t\t- parallax: <HDF5 dataset \"parallax\": shape (2,), type \"<f8\">\n",
      "- spectra: <HDF5 group \"/spectra\" (1 members)>\n",
      "\t- calibration: <HDF5 group \"/spectra/calibration\" (1 members)>\n",
      "\t\t- vega: <HDF5 dataset \"vega\": shape (3, 9192), type \"<f8\">\n"
     ]
    }
   ],
   "source": [
    "database.list_content()"
   ]
  },
  {
   "cell_type": "markdown",
   "metadata": {},
   "source": [
    "We see the various groups, subgroups, datasets, and attributes that are stored in the HDF5 database."
   ]
  },
  {
   "cell_type": "markdown",
   "metadata": {},
   "source": [
    "## Reading model spectra"
   ]
  },
  {
   "cell_type": "markdown",
   "metadata": {},
   "source": [
    "Model spectra are read from the database by first creating an instance of [ReadModel](https://species.readthedocs.io/en/latest/species.read.html#species.read.read_model.ReadModel). The model name and optionally a wavelength range are provided as arguments."
   ]
  },
  {
   "cell_type": "code",
   "execution_count": 7,
   "metadata": {},
   "outputs": [],
   "source": [
    "readmodel = ReadModel('atmo', wavel_range=(0.5, 10.))"
   ]
  },
  {
   "cell_type": "markdown",
   "metadata": {},
   "source": [
    "Before extracting a spectrum, let's check which parameters are required for the ATMO model spectra."
   ]
  },
  {
   "cell_type": "code",
   "execution_count": 8,
   "metadata": {},
   "outputs": [
    {
     "data": {
      "text/plain": [
       "['teff', 'logg']"
      ]
     },
     "execution_count": 8,
     "metadata": {},
     "output_type": "execute_result"
    }
   ],
   "source": [
    "readmodel.get_parameters()"
   ]
  },
  {
   "cell_type": "markdown",
   "metadata": {},
   "source": [
    "And also the parameter boundaries of the grid that is stored in the database."
   ]
  },
  {
   "cell_type": "code",
   "execution_count": 9,
   "metadata": {},
   "outputs": [
    {
     "data": {
      "text/plain": [
       "{'teff': (2500.0, 3000.0), 'logg': (2.5, 5.5)}"
      ]
     },
     "execution_count": 9,
     "metadata": {},
     "output_type": "execute_result"
    }
   ],
   "source": [
    "readmodel.get_bounds()"
   ]
  },
  {
   "cell_type": "markdown",
   "metadata": {},
   "source": [
    "The parameters are provided in a dictionary for which we have to make sure that chose values are within the grid boundaries. The radius ($R_\\mathrm{J}$) and distance (pc) will scale the emitted spectrum to the observer. Without these values, the spectrum fluxes are provided at the surface of the atmosphere."
   ]
  },
  {
   "cell_type": "code",
   "execution_count": 10,
   "metadata": {},
   "outputs": [],
   "source": [
    "model_param = {'teff': 2900., 'logg': 4.5, 'radius': 2.2, 'distance': 47.13}"
   ]
  },
  {
   "cell_type": "markdown",
   "metadata": {},
   "source": [
    "We now use the [get_model](https://species.readthedocs.io/en/latest/species.read.html#species.read.read_model.ReadModel.get_model) method of [ReadModel](https://species.readthedocs.io/en/latest/species.read.html#species.read.read_model.ReadModel) to linearly interpolate the grid of spectra and store the extracted spectrum in a `ModelBox`. The spectrum is smoothed to a spectral resolution of $R = 100$."
   ]
  },
  {
   "cell_type": "code",
   "execution_count": 11,
   "metadata": {},
   "outputs": [],
   "source": [
    "modelbox = readmodel.get_model(model_param, spec_res=100., smooth=True)"
   ]
  },
  {
   "cell_type": "markdown",
   "metadata": {},
   "source": [
    "## Reading companion data"
   ]
  },
  {
   "cell_type": "markdown",
   "metadata": {},
   "source": [
    "The photometric data of PZ Tel B are also read from the database and stored in an [ObjectBox](https://species.readthedocs.io/en/latest/species.core.html#species.core.box.ObjectBox)."
   ]
  },
  {
   "cell_type": "code",
   "execution_count": 12,
   "metadata": {},
   "outputs": [
    {
     "name": "stdout",
     "output_type": "stream",
     "text": [
      "\n",
      "----------\n",
      "Get object\n",
      "----------\n",
      "\n",
      "Object name: PZ Tel B\n",
      "Include photometry: True\n",
      "Include spectra: True\n"
     ]
    }
   ],
   "source": [
    "objectbox = database.get_object(object_name='PZ Tel B')"
   ]
  },
  {
   "cell_type": "markdown",
   "metadata": {},
   "source": [
    "## Synthetic photometry for all filters"
   ]
  },
  {
   "cell_type": "markdown",
   "metadata": {},
   "source": [
    "For comparison, we create synthetic photometry from the extracted ATMO spectrum for all filters of PZ Tel B. The synthetic fluxes are stored in a [SynphotBox](https://species.readthedocs.io/en/latest/species.core.html#species.core.box.SynphotBox)."
   ]
  },
  {
   "cell_type": "code",
   "execution_count": 13,
   "metadata": {},
   "outputs": [
    {
     "name": "stdout",
     "output_type": "stream",
     "text": [
      "\n",
      "--------------------------\n",
      "Calculate multi-photometry\n",
      "--------------------------\n",
      "\n",
      "Data type: model\n",
      "Spectrum name: atmo\n",
      "\n",
      "Parameters:\n",
      "   - teff = 2900.00\n",
      "   - logg = 4.50\n",
      "   - radius = 2.20\n",
      "   - distance = 47.13\n",
      "   - luminosity = 3.26e-03\n",
      "   - mass = 61.75\n",
      "\n",
      "Magnitudes:\n",
      "   - Gemini/NICI.ED286 = 11.82\n",
      "   - Gemini/NIRI.H2S1v2-1-G0220 = 11.32\n",
      "   - Paranal/NACO.H = 11.79\n",
      "   - Paranal/NACO.J = 12.37\n",
      "   - Paranal/NACO.Ks = 11.52\n",
      "   - Paranal/NACO.Lp = 10.97\n",
      "   - Paranal/NACO.Mp = 11.04\n",
      "   - Paranal/NACO.NB405 = 10.89\n",
      "   - Paranal/SPHERE.IRDIS_D_H23_2 = 11.82\n",
      "   - Paranal/SPHERE.IRDIS_D_H23_3 = 11.58\n",
      "   - Paranal/SPHERE.IRDIS_D_K12_1 = 11.59\n",
      "   - Paranal/SPHERE.IRDIS_D_K12_2 = 11.33\n",
      "   - Paranal/SPHERE.ZIMPOL_I_PRIM = 14.44\n",
      "   - Paranal/SPHERE.ZIMPOL_R_PRIM = 16.97\n",
      "\n",
      "Fluxes (W m-2 um-1):\n",
      "   - Gemini/NICI.ED286 = 2.40e-14\n",
      "   - Gemini/NIRI.H2S1v2-1-G0220 = 1.11e-14\n",
      "   - Paranal/NACO.H = 2.20e-14\n",
      "   - Paranal/NACO.J = 3.37e-14\n",
      "   - Paranal/NACO.Ks = 1.11e-14\n",
      "   - Paranal/NACO.Lp = 2.10e-15\n",
      "   - Paranal/NACO.Mp = 8.16e-16\n",
      "   - Paranal/NACO.NB405 = 1.71e-15\n",
      "   - Paranal/SPHERE.IRDIS_D_H23_2 = 2.41e-14\n",
      "   - Paranal/SPHERE.IRDIS_D_H23_3 = 2.54e-14\n",
      "   - Paranal/SPHERE.IRDIS_D_K12_1 = 1.11e-14\n",
      "   - Paranal/SPHERE.IRDIS_D_K12_2 = 1.09e-14\n",
      "   - Paranal/SPHERE.ZIMPOL_I_PRIM = 2.11e-14\n",
      "   - Paranal/SPHERE.ZIMPOL_R_PRIM = 4.10e-15\n"
     ]
    }
   ],
   "source": [
    "synphot_box = multi_photometry(datatype='model',\n",
    "                               spectrum='atmo',\n",
    "                               filters=objectbox.filters,\n",
    "                               parameters=model_param)"
   ]
  },
  {
   "cell_type": "markdown",
   "metadata": {},
   "source": [
    "## Opening Box objects"
   ]
  },
  {
   "cell_type": "markdown",
   "metadata": {},
   "source": [
    "The [open_box](https://species.readthedocs.io/en/latest/species.core.html#species.core.box.Box.open_box) method can be used to view the content of any [Box](https://species.readthedocs.io/en/latest/species.core.html#species.core.box.Box) object. For example, the [ModelBox](https://species.readthedocs.io/en/latest/species.core.html#species.core.box.ModelBox) contains several attributes, including the wavelengths and fluxes."
   ]
  },
  {
   "cell_type": "code",
   "execution_count": 14,
   "metadata": {},
   "outputs": [
    {
     "name": "stdout",
     "output_type": "stream",
     "text": [
      "Opening ModelBox...\n",
      "model = atmo\n",
      "type = None\n",
      "wavelength = [ 0.49988281  0.5003783   0.50087427 ...  9.98942188  9.99932338\n",
      " 10.00923469]\n",
      "flux = [2.39438543e-15 2.38340951e-15 2.39567585e-15 ... 5.81978203e-17\n",
      " 5.80519504e-17 5.79256005e-17]\n",
      "parameters = {'teff': 2900.0, 'logg': 4.5, 'radius': 2.2, 'distance': 47.13, 'luminosity': 0.0032568812069009873, 'mass': 61.74898371650208}\n",
      "quantity = flux\n",
      "contribution = None\n",
      "bol_flux = None\n",
      "spec_res = 100.0\n"
     ]
    }
   ],
   "source": [
    "modelbox.open_box()"
   ]
  },
  {
   "cell_type": "markdown",
   "metadata": {},
   "source": [
    "Similarly, an [ObjectBox](https://species.readthedocs.io/en/latest/species.core.html#species.core.box.ObjectBox) contains a dictionary with the magnitudes and a dictionary with the fluxes."
   ]
  },
  {
   "cell_type": "code",
   "execution_count": 15,
   "metadata": {},
   "outputs": [
    {
     "name": "stdout",
     "output_type": "stream",
     "text": [
      "Opening ObjectBox...\n",
      "name = PZ Tel B\n",
      "filters = ['Gemini/NICI.ED286', 'Gemini/NIRI.H2S1v2-1-G0220', 'Paranal/NACO.H', 'Paranal/NACO.J', 'Paranal/NACO.Ks', 'Paranal/NACO.Lp', 'Paranal/NACO.Mp', 'Paranal/NACO.NB405', 'Paranal/SPHERE.IRDIS_D_H23_2', 'Paranal/SPHERE.IRDIS_D_H23_3', 'Paranal/SPHERE.IRDIS_D_K12_1', 'Paranal/SPHERE.IRDIS_D_K12_2', 'Paranal/SPHERE.ZIMPOL_I_PRIM', 'Paranal/SPHERE.ZIMPOL_R_PRIM']\n",
      "mean_wavel = {'Gemini/NICI.ED286': 1.5841803431418238, 'Gemini/NIRI.H2S1v2-1-G0220': 2.2447142746110718, 'Paranal/NACO.H': 1.6588090664617747, 'Paranal/NACO.J': 1.265099894847529, 'Paranal/NACO.Ks': 2.144954491491888, 'Paranal/NACO.Lp': 3.8050282724280526, 'Paranal/NACO.Mp': 4.780970919324577, 'Paranal/NACO.NB405': 4.055862923806052, 'Paranal/SPHERE.IRDIS_D_H23_2': 1.5863509078883227, 'Paranal/SPHERE.IRDIS_D_H23_3': 1.6661442175885708, 'Paranal/SPHERE.IRDIS_D_K12_1': 2.1038552712775034, 'Paranal/SPHERE.IRDIS_D_K12_2': 2.255172356268582, 'Paranal/SPHERE.ZIMPOL_I_PRIM': 0.7843997176190827, 'Paranal/SPHERE.ZIMPOL_R_PRIM': 0.6278112553204571}\n",
      "magnitude = {'Gemini/NICI.ED286': array([11.68,  0.14]), 'Gemini/NIRI.H2S1v2-1-G0220': array([11.39,  0.14]), 'Paranal/NACO.H': array([11.93,  0.14]), 'Paranal/NACO.J': array([12.47,  0.2 ]), 'Paranal/NACO.Ks': array([11.53,  0.07]), 'Paranal/NACO.Lp': array([11.04,  0.22]), 'Paranal/NACO.Mp': array([10.93,  0.03]), 'Paranal/NACO.NB405': array([10.94,  0.07]), 'Paranal/SPHERE.IRDIS_D_H23_2': array([11.78,  0.19]), 'Paranal/SPHERE.IRDIS_D_H23_3': array([11.65,  0.19]), 'Paranal/SPHERE.IRDIS_D_K12_1': array([11.56,  0.09]), 'Paranal/SPHERE.IRDIS_D_K12_2': array([11.29,  0.1 ]), 'Paranal/SPHERE.ZIMPOL_I_PRIM': array([15.16,  0.12]), 'Paranal/SPHERE.ZIMPOL_R_PRIM': array([17.84,  0.31])}\n",
      "flux = {'Gemini/NICI.ED286': array([2.74086109e-14, 3.54399875e-15]), 'Gemini/NIRI.H2S1v2-1-G0220': array([1.03991914e-14, 1.34464024e-15]), 'Paranal/NACO.H': array([1.93752511e-14, 2.50526617e-15]), 'Paranal/NACO.J': array([3.07259575e-14, 5.69199382e-15]), 'Paranal/NACO.Ks': array([1.10414095e-14, 7.12359249e-16]), 'Paranal/NACO.Lp': array([1.97779118e-15, 4.03502853e-16]), 'Paranal/NACO.Mp': array([9.00005271e-16, 2.48712291e-17]), 'Paranal/NACO.NB405': array([1.63652876e-15, 1.05584019e-16]), 'Paranal/SPHERE.IRDIS_D_H23_2': array([2.50237615e-14, 4.40145471e-15]), 'Paranal/SPHERE.IRDIS_D_H23_3': array([2.38720055e-14, 4.19887118e-15]), 'Paranal/SPHERE.IRDIS_D_K12_1': array([1.13423556e-14, 9.41279698e-16]), 'Paranal/SPHERE.IRDIS_D_K12_2': array([1.12217121e-14, 1.03501979e-15]), 'Paranal/SPHERE.ZIMPOL_I_PRIM': array([1.08367907e-14, 1.20016634e-15]), 'Paranal/SPHERE.ZIMPOL_R_PRIM': array([1.83237860e-15, 5.30319249e-16])}\n",
      "spectrum = None\n",
      "parallax = [21.1621  0.0223]\n",
      "distance = None\n"
     ]
    }
   ],
   "source": [
    "objectbox.open_box()"
   ]
  },
  {
   "cell_type": "markdown",
   "metadata": {},
   "source": [
    "The attributes in a [Box](https://species.readthedocs.io/en/latest/species.core.html#species.core.box.Box) object can be extracted for further analysis or creating plots. For example, to extract the array with wavelengths from the [ModelBox](https://species.readthedocs.io/en/latest/species.core.html#species.core.box.ModelBox):"
   ]
  },
  {
   "cell_type": "code",
   "execution_count": 16,
   "metadata": {},
   "outputs": [
    {
     "data": {
      "text/plain": [
       "array([ 0.49988281,  0.5003783 ,  0.50087427, ...,  9.98942188,\n",
       "        9.99932338, 10.00923469])"
      ]
     },
     "execution_count": 16,
     "metadata": {},
     "output_type": "execute_result"
    }
   ],
   "source": [
    "modelbox.wavelength"
   ]
  },
  {
   "cell_type": "markdown",
   "metadata": {},
   "source": [
    "## Plotting model spectrum and photometric fluxes"
   ]
  },
  {
   "cell_type": "markdown",
   "metadata": {},
   "source": [
    "Finally, we will combine the model spectrum and the photometric fluxes in a plot with [plot_spectrum](https://species.readthedocs.io/en/latest/species.plot.html#species.plot.plot_spectrum.plot_spectrum). A list with [Box](https://species.readthedocs.io/en/latest/species.core.html#species.core.box.Box) objects is provided as an argument of `boxes`. These are interpreted accordingly by the [plot_spectrum](https://species.readthedocs.io/en/latest/species.plot.html#species.plot.plot_spectrum.plot_spectrum) function. Also a list with filter names can be provided as argument of `filters` to show the filter profiles. The [ResidualsBox](https://species.readthedocs.io/en/latest/species.core.html#species.core.box.ResidualsBox) is provided as arguments of `residuals`. Finally, the optional argument of `plot_kwargs` contains a list with optional dictionaries to tune the visualization of the plotted data. The number of items in the list of `plot_kwargs` should be equal to the number of items in the list of `boxes`. For the [SynphotBox](https://species.readthedocs.io/en/latest/species.core.html#species.core.box.SynphotBox), we can set the item in `plot_kwargs` to `None` such that the marker design is based on the data from [ObjectBox](https://species.readthedocs.io/en/latest/species.core.html#species.core.box.ObjectBox).\n",
    "\n",
    "The blue squares are the photometric fluxes of PZ Tel B and the open squares are the synthetic photometry computed from the model spectrum. The residuals are shown relative to the uncertainties on the fluxes."
   ]
  },
  {
   "cell_type": "code",
   "execution_count": 17,
   "metadata": {},
   "outputs": [
    {
     "name": "stdout",
     "output_type": "stream",
     "text": [
      "\n",
      "-------------\n",
      "Plot spectrum\n",
      "-------------\n",
      "\n",
      "Boxes:\n",
      "   - ModelBox\n",
      "   - ObjectBox\n",
      "   - SynphotBox\n",
      "\n",
      "Object type: planet\n",
      "Quantity: flux density\n",
      "Units: ('um', 'erg s-1 cm-2 Hz-1')\n",
      "Filter profiles: ['Gemini/NICI.ED286', 'Gemini/NIRI.H2S1v2-1-G0220', 'Paranal/NACO.H', 'Paranal/NACO.J', 'Paranal/NACO.Ks', 'Paranal/NACO.Lp', 'Paranal/NACO.Mp', 'Paranal/NACO.NB405', 'Paranal/SPHERE.IRDIS_D_H23_2', 'Paranal/SPHERE.IRDIS_D_H23_3', 'Paranal/SPHERE.IRDIS_D_K12_1', 'Paranal/SPHERE.IRDIS_D_K12_2', 'Paranal/SPHERE.ZIMPOL_I_PRIM', 'Paranal/SPHERE.ZIMPOL_R_PRIM']\n",
      "\n",
      "Figure size: (5, 3)\n",
      "Legend parameters: None\n",
      "Include model name: False\n"
     ]
    },
    {
     "data": {
      "image/png": "[encoded data removed]",
      "text/plain": [
       "<Figure size 500x300 with 2 Axes>"
      ]
     },
     "metadata": {},
     "output_type": "display_data"
    }
   ],
   "source": [
    "fig = plot_spectrum(boxes=[modelbox, objectbox, synphot_box],\n",
    "                    filters=objectbox.filters,\n",
    "                    residuals=None,\n",
    "                    plot_kwargs=[{'ls': '-', 'lw': 1., 'color': 'black'},\n",
    "                                 {'Gemini/NICI.ED286': {'marker': 's', 'ms': 4., 'color': 'tab:blue', 'ls': 'none'},\n",
    "                                  'Gemini/NIRI.H2S1v2-1-G0220': {'marker': 's', 'ms': 4., 'color': 'tab:blue', 'ls': 'none'},\n",
    "                                  'Paranal/NACO.H': {'marker': 's', 'ms': 4., 'color': 'tab:blue', 'ls': 'none'},\n",
    "                                  'Paranal/NACO.J': {'marker': 's', 'ms': 4., 'color': 'tab:blue', 'ls': 'none'},\n",
    "                                  'Paranal/NACO.Ks': {'marker': 's', 'ms': 4., 'color': 'tab:blue', 'ls': 'none'},\n",
    "                                  'Paranal/NACO.Lp': {'marker': 's', 'ms': 4., 'color': 'tab:blue', 'ls': 'none'},\n",
    "                                  'Paranal/NACO.Mp': {'marker': 's', 'ms': 4., 'color': 'tab:blue', 'ls': 'none'},\n",
    "                                  'Paranal/NACO.NB405': {'marker': 's', 'ms': 4., 'color': 'tab:blue', 'ls': 'none'},\n",
    "                                  'Paranal/SPHERE.IRDIS_D_H23_2': {'marker': 's', 'ms': 4., 'color': 'tab:blue', 'ls': 'none'},\n",
    "                                  'Paranal/SPHERE.IRDIS_D_H23_3': {'marker': 's', 'ms': 4., 'color': 'tab:blue', 'ls': 'none'},\n",
    "                                  'Paranal/SPHERE.IRDIS_D_K12_1': {'marker': 's', 'ms': 4., 'color': 'tab:blue', 'ls': 'none'},\n",
    "                                  'Paranal/SPHERE.IRDIS_D_K12_2': {'marker': 's', 'ms': 4., 'color': 'tab:blue', 'ls': 'none'},\n",
    "                                  'Paranal/SPHERE.ZIMPOL_I_PRIM': {'marker': 's', 'ms': 4., 'color': 'tab:blue', 'ls': 'none'},\n",
    "                                  'Paranal/SPHERE.ZIMPOL_R_PRIM': {'marker': 's', 'ms': 4., 'color': 'tab:blue', 'ls': 'none'}},\n",
    "                                  None],\n",
    "                    xlim=(0.5, 5.5),\n",
    "                    legend={'loc': 'upper right', 'frameon': False, 'fontsize': 11.},\n",
    "                    units=('um', 'erg s-1 cm-2 Hz-1'),\n",
    "                    figsize=(5, 3),\n",
    "                    output=None)"
   ]
  },
  {
   "cell_type": "markdown",
   "metadata": {},
   "source": [
    "The [plot_spectrum](https://species.readthedocs.io/en/latest/species.plot.html#species.plot.plot_spectrum.plot_spectrum) function returned the [Figure](https://matplotlib.org/stable/api/figure_api.html#matplotlib.figure.Figure) object of the plot. The functionalities of [Matplotlib](https://matplotlib.org/stable/index.html) can be used for further customization of the plot. For example, the axes of the plot are stored at the `axes` attribute of `Figure`."
   ]
  },
  {
   "cell_type": "code",
   "execution_count": 18,
   "metadata": {},
   "outputs": [
    {
     "data": {
      "text/plain": [
       "[<Axes: xlabel='Wavelength (µm)', ylabel='$F_\\\\lambda$ (erg s$^{-2}$ cm$^{-2}$ Hz$^{-1}$)'>,\n",
       " <Axes: ylabel='$T_\\\\lambda$'>]"
      ]
     },
     "execution_count": 18,
     "metadata": {},
     "output_type": "execute_result"
    }
   ],
   "source": [
    "fig.axes"
   ]
  }
 ],
 "metadata": {
  "kernelspec": {
   "display_name": "Python 3 (ipykernel)",
   "language": "python",
   "name": "python3"
  },
  "language_info": {
   "codemirror_mode": {
    "name": "ipython",
    "version": 3
   },
   "file_extension": ".py",
   "mimetype": "text/x-python",
   "name": "python",
   "nbconvert_exporter": "python",
   "pygments_lexer": "ipython3",
   "version": "3.11.5"
  }
 },
 "nbformat": 4,
 "nbformat_minor": 4
}
